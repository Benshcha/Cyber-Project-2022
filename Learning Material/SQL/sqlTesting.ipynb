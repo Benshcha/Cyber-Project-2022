{
 "cells": [
  {
   "cell_type": "code",
   "execution_count": 4,
   "metadata": {},
   "outputs": [
    {
     "name": "stdout",
     "output_type": "stream",
     "text": [
      "()\n",
      "('a',)\n"
     ]
    }
   ],
   "source": [
    "def func(*kwargs):\n",
    "    print(kwargs)\n",
    "    \n",
    "func()\n",
    "func(\"a\")"
   ]
  },
  {
   "cell_type": "code",
   "execution_count": null,
   "metadata": {},
   "outputs": [],
   "source": [
    "SELECT EXISTS(SELECT 1 FROM users WHERE username='Benshcha' AND pass='pass');\n",
    "\n",
    "-- IF EXISTS(SELECT 1 FROM my_table WHERE username='Benshcha' AND pass='pass') = 1 THEN\n",
    "--     SELECT username FROM users WHERE username='Benshcha' AND pass='pass';\n",
    "-- ELSE \n",
    "--     SELECT 0;\n",
    "-- END;\n",
    "\n",
    "    "
   ]
  }
 ],
 "metadata": {
  "interpreter": {
   "hash": "2b214b4fa4a4cdba9c6c679d4d372276fa285ce95cfeddf92d50810aa46189a2"
  },
  "kernelspec": {
   "display_name": "Python 3.9.10 64-bit (windows store)",
   "language": "python",
   "name": "python3"
  },
  "language_info": {
   "codemirror_mode": {
    "name": "ipython",
    "version": 3
   },
   "file_extension": ".py",
   "mimetype": "text/x-python",
   "name": "python",
   "nbconvert_exporter": "python",
   "pygments_lexer": "ipython3",
   "version": "3.9.10"
  },
  "orig_nbformat": 4
 },
 "nbformat": 4,
 "nbformat_minor": 2
}
